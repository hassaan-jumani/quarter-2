{
 "cells": [
  {
   "cell_type": "code",
   "execution_count": 30,
   "metadata": {},
   "outputs": [],
   "source": [
    "from PIL import Image\n",
    "import numpy as np\n",
    "import matplotlib.pylab as mp\n",
    "import os\n",
    "import fnmatch\n",
    "from glob import glob"
   ]
  },
  {
   "cell_type": "code",
   "execution_count": null,
   "metadata": {},
   "outputs": [],
   "source": []
  },
  {
   "cell_type": "code",
   "execution_count": 31,
   "metadata": {},
   "outputs": [],
   "source": [
    "*size=(/)"
   ]
  },
  {
   "cell_type": "code",
   "execution_count": 32,
   "metadata": {},
   "outputs": [],
   "source": [
    "for f in os.listdir(\".\"):\n",
    "    if f.endswith(\".jpg\"):\n",
    "        i = Image.open(f)\n",
    "        fn,fext = os.path.splitext(f)\n",
    "        \n",
    "        i.thumbnail(size)\n",
    "        i.save(\"100/{}_100{}\".format(fn,fext))\n",
    "        "
   ]
  },
  {
   "cell_type": "code",
   "execution_count": 48,
   "metadata": {},
   "outputs": [],
   "source": [
    "def plti(im,h=8, **kwargs):\n",
    "    \"\"\"\n",
    "    Helper function to plot an image.\"\"\"\n",
    "    y = im.shape[0]\n",
    "    x=im.shape[1]\n",
    "    w=(y/x) * h\n",
    "    mp.imshow(im, interpolation=\"none\", **kwargs)\n",
    "    mp.axis('off')\n",
    "%matplotlib inline\n",
    "\n",
    "\n",
    "file = []\n",
    "dire = (os.path.join('100', \"*.jpg\"))\n",
    "reads = np.array([100,100,3])\n",
    "for r, d, f in os.walk(dire):\n",
    "    for reads in f:\n",
    "        mp.imread(f)\n",
    "        mp.imshow(f)\n",
    "        \n",
    "        \n",
    "                \n",
    "#path = 'C:\\\\Users\\\\jumani\\\\Desktop\\\\classes training\\\\QUARTER # 2\\\\Assigment\\\\100'\n",
    "#read = np.array([])\n",
    "#for r, d, f in os.walk(path):\n",
    " #   for file in f:\n",
    "  #      if '.jpg' in file:\n",
    "   #         read.append(os.path.join(r, file))\n",
    "\n",
    "\n",
    "#dire = os.open('100/')\n",
    "#os.path.join(direct, \"5_1.txt\")                    \n",
    "#read = mp.imread(dire)\n",
    "#for i in read():\n",
    " #   print(i.shape)\n",
    "  #  plti(i)\n",
    "#for i in os.listdir('100/'):\n",
    " #    if fnmatch.fnmatch(i, '*.jpg'):\n",
    " #           read = mp.imread(i)\n",
    "#for up in read():\n",
    "  #  print(up.shape)\n",
    "   # plti(up)"
   ]
  },
  {
   "cell_type": "code",
   "execution_count": null,
   "metadata": {},
   "outputs": [],
   "source": [
    "\n"
   ]
  },
  {
   "cell_type": "code",
   "execution_count": null,
   "metadata": {},
   "outputs": [],
   "source": []
  },
  {
   "cell_type": "code",
   "execution_count": null,
   "metadata": {},
   "outputs": [],
   "source": []
  }
 ],
 "metadata": {
  "kernelspec": {
   "display_name": "Python 3",
   "language": "python",
   "name": "python3"
  },
  "language_info": {
   "codemirror_mode": {
    "name": "ipython",
    "version": 3
   },
   "file_extension": ".py",
   "mimetype": "text/x-python",
   "name": "python",
   "nbconvert_exporter": "python",
   "pygments_lexer": "ipython3",
   "version": "3.7.3"
  }
 },
 "nbformat": 4,
 "nbformat_minor": 2
}
